{
 "cells": [
  {
   "cell_type": "markdown",
   "metadata": {},
   "source": [
    "# Join Statements - Lab\n",
    "\n",
    "## Introduction\n",
    "\n",
    "In this lab, you'll practice your knowledge of join statements, using various types of joins and various methods for specifying the links between them.\n",
    "\n",
    "## Objectives\n",
    "\n",
    "You will be able to:\n",
    "- Write queries that make use of various types of Joins\n",
    "- Join tables using foreign keys"
   ]
  },
  {
   "cell_type": "markdown",
   "metadata": {},
   "source": [
    "## CRM Schema\n",
    "\n",
    "In almost all cases, rather then just working with a single table you will typically need data from multiple tables. \n",
    "Doing this requires the use of **joins ** using shared columns from the two tables. \n",
    "\n",
    "In this lab, you'll use the same Customer Relationship Management (CRM) database that you saw from the previous lesson.\n",
    "<img src='images/Database-Schema.png' width=\"600\">"
   ]
  },
  {
   "cell_type": "markdown",
   "metadata": {},
   "source": [
    "## Connecting to the Database\n",
    "Import the necessary packages and connect to the database **data.sqlite**."
   ]
  },
  {
   "cell_type": "code",
   "execution_count": 2,
   "metadata": {},
   "outputs": [],
   "source": [
    "#Your code here\n",
    "import sqlite3\n",
    "conn=sqlite3.connect(\"data.sqlite\")\n",
    "cursor=conn.cursor()"
   ]
  },
  {
   "cell_type": "code",
   "execution_count": 11,
   "metadata": {},
   "outputs": [
    {
     "data": {
      "text/plain": [
       "[('orderdetails',),\n",
       " ('payments',),\n",
       " ('offices',),\n",
       " ('customers',),\n",
       " ('orders',),\n",
       " ('productlines',),\n",
       " ('products',),\n",
       " ('employees',)]"
      ]
     },
     "execution_count": 11,
     "metadata": {},
     "output_type": "execute_result"
    }
   ],
   "source": [
    "cursor.execute('''select name from sqlite_master''').fetchall()"
   ]
  },
  {
   "cell_type": "code",
   "execution_count": 5,
   "metadata": {},
   "outputs": [
    {
     "data": {
      "text/plain": [
       "[(0, 'productCode', '', 0, None, 0),\n",
       " (1, 'productName', '', 0, None, 0),\n",
       " (2, 'productLine', '', 0, None, 0),\n",
       " (3, 'productScale', '', 0, None, 0),\n",
       " (4, 'productVendor', '', 0, None, 0),\n",
       " (5, 'productDescription', '', 0, None, 0),\n",
       " (6, 'quantityInStock', '', 0, None, 0),\n",
       " (7, 'buyPrice', '', 0, None, 0),\n",
       " (8, 'MSRP', '', 0, None, 0)]"
      ]
     },
     "execution_count": 5,
     "metadata": {},
     "output_type": "execute_result"
    }
   ],
   "source": [
    "cursor.execute('''PRAGMA table_info(\"products\")''').fetchall()"
   ]
  },
  {
   "cell_type": "markdown",
   "metadata": {},
   "source": [
    "## Display the names of all the employees in Boston.\n",
    "Hint: join the employees and offices tables."
   ]
  },
  {
   "cell_type": "code",
   "execution_count": 14,
   "metadata": {},
   "outputs": [
    {
     "data": {
      "text/plain": [
       "[('1188',\n",
       "  'Firrelli',\n",
       "  'Julie',\n",
       "  'x2173',\n",
       "  'jfirrelli@classicmodelcars.com',\n",
       "  '2',\n",
       "  '1143',\n",
       "  'Sales Rep',\n",
       "  'Boston',\n",
       "  '+1 215 837 0825',\n",
       "  '1550 Court Place',\n",
       "  'Suite 102',\n",
       "  'MA',\n",
       "  'USA',\n",
       "  '02107',\n",
       "  'NA'),\n",
       " ('1216',\n",
       "  'Patterson',\n",
       "  'Steve',\n",
       "  'x4334',\n",
       "  'spatterson@classicmodelcars.com',\n",
       "  '2',\n",
       "  '1143',\n",
       "  'Sales Rep',\n",
       "  'Boston',\n",
       "  '+1 215 837 0825',\n",
       "  '1550 Court Place',\n",
       "  'Suite 102',\n",
       "  'MA',\n",
       "  'USA',\n",
       "  '02107',\n",
       "  'NA')]"
      ]
     },
     "execution_count": 14,
     "metadata": {},
     "output_type": "execute_result"
    }
   ],
   "source": [
    "#Your code here\n",
    "cursor.execute('''select * from employees as EM \n",
    "left join offices as OF using(officeCode)\n",
    "where OF.city=\"Boston\"''').fetchall()"
   ]
  },
  {
   "cell_type": "markdown",
   "metadata": {},
   "source": [
    "## Do any offices have no employees?\n",
    "Hint: Combine the employees and offices tables and use a group by."
   ]
  },
  {
   "cell_type": "code",
   "execution_count": 7,
   "metadata": {
    "scrolled": true
   },
   "outputs": [
    {
     "ename": "OperationalError",
     "evalue": "RIGHT and FULL OUTER JOINs are not currently supported",
     "output_type": "error",
     "traceback": [
      "\u001b[0;31m\u001b[0m",
      "\u001b[0;31mOperationalError\u001b[0mTraceback (most recent call last)",
      "\u001b[0;32m<ipython-input-7-615c93441b3c>\u001b[0m in \u001b[0;36m<module>\u001b[0;34m()\u001b[0m\n\u001b[1;32m      2\u001b[0m cursor.execute('''select * from employees as EP\n\u001b[1;32m      3\u001b[0m \u001b[0mright\u001b[0m \u001b[0mjoin\u001b[0m \u001b[0moffices\u001b[0m \u001b[0;32mas\u001b[0m \u001b[0mOF\u001b[0m \u001b[0mon\u001b[0m \u001b[0mEP\u001b[0m\u001b[0;34m.\u001b[0m\u001b[0mofficeCode\u001b[0m\u001b[0;34m=\u001b[0m\u001b[0mOF\u001b[0m\u001b[0;34m.\u001b[0m\u001b[0mofficeCode\u001b[0m\u001b[0;34m\u001b[0m\u001b[0m\n\u001b[0;32m----> 4\u001b[0;31m where EP.employeeNumber is NULL''').fetchall()\n\u001b[0m",
      "\u001b[0;31mOperationalError\u001b[0m: RIGHT and FULL OUTER JOINs are not currently supported"
     ]
    }
   ],
   "source": [
    "#Your code here\n",
    "cursor.execute('''select * from employees as EP\n",
    "right join offices as OF on EP.officeCode=OF.officeCode\n",
    "where EP.employeeNumber is NULL''').fetchall()"
   ]
  },
  {
   "cell_type": "markdown",
   "metadata": {},
   "source": [
    "## Write 3 Questions of your own and answer them"
   ]
  },
  {
   "cell_type": "code",
   "execution_count": null,
   "metadata": {},
   "outputs": [],
   "source": [
    "# Answers will vary"
   ]
  },
  {
   "cell_type": "code",
   "execution_count": null,
   "metadata": {},
   "outputs": [],
   "source": [
    "# Your code here"
   ]
  },
  {
   "cell_type": "code",
   "execution_count": null,
   "metadata": {},
   "outputs": [],
   "source": [
    "# Your code here"
   ]
  },
  {
   "cell_type": "code",
   "execution_count": null,
   "metadata": {},
   "outputs": [],
   "source": [
    "# Your code here\n",
    "b"
   ]
  },
  {
   "cell_type": "markdown",
   "metadata": {},
   "source": [
    "## Level Up: Display the names of each product each employee has sold"
   ]
  },
  {
   "cell_type": "code",
   "execution_count": 10,
   "metadata": {},
   "outputs": [
    {
     "data": {
      "text/plain": [
       "[(0, 'customerNumber', '', 0, None, 0),\n",
       " (1, 'customerName', '', 0, None, 0),\n",
       " (2, 'contactLastName', '', 0, None, 0),\n",
       " (3, 'contactFirstName', '', 0, None, 0),\n",
       " (4, 'phone', '', 0, None, 0),\n",
       " (5, 'addressLine1', '', 0, None, 0),\n",
       " (6, 'addressLine2', '', 0, None, 0),\n",
       " (7, 'city', '', 0, None, 0),\n",
       " (8, 'state', '', 0, None, 0),\n",
       " (9, 'postalCode', '', 0, None, 0),\n",
       " (10, 'country', '', 0, None, 0),\n",
       " (11, 'salesRepEmployeeNumber', '', 0, None, 0),\n",
       " (12, 'creditLimit', '', 0, None, 0)]"
      ]
     },
     "execution_count": 10,
     "metadata": {},
     "output_type": "execute_result"
    }
   ],
   "source": [
    "cursor.execute(\"Pragma table_info('customers')\").fetchall()"
   ]
  },
  {
   "cell_type": "code",
   "execution_count": 42,
   "metadata": {},
   "outputs": [
    {
     "ename": "OperationalError",
     "evalue": "no such column: distince",
     "output_type": "error",
     "traceback": [
      "\u001b[0;31m\u001b[0m",
      "\u001b[0;31mOperationalError\u001b[0mTraceback (most recent call last)",
      "\u001b[0;32m<ipython-input-42-6c61c7fcfb47>\u001b[0m in \u001b[0;36m<module>\u001b[0;34m()\u001b[0m\n\u001b[1;32m      5\u001b[0m \u001b[0mjoin\u001b[0m \u001b[0morderdetails\u001b[0m \u001b[0;32mas\u001b[0m \u001b[0mODD\u001b[0m \u001b[0musing\u001b[0m\u001b[0;34m(\u001b[0m\u001b[0morderNumber\u001b[0m\u001b[0;34m)\u001b[0m\u001b[0;34m\u001b[0m\u001b[0m\n\u001b[1;32m      6\u001b[0m \u001b[0mjoin\u001b[0m \u001b[0mproducts\u001b[0m \u001b[0;32mas\u001b[0m \u001b[0mPD\u001b[0m \u001b[0musing\u001b[0m\u001b[0;34m(\u001b[0m\u001b[0mproductcode\u001b[0m\u001b[0;34m)\u001b[0m\u001b[0;34m\u001b[0m\u001b[0m\n\u001b[0;32m----> 7\u001b[0;31m where employeenumber==\"1165\"''').fetchall())\n\u001b[0m",
      "\u001b[0;31mOperationalError\u001b[0m: no such column: distince"
     ]
    }
   ],
   "source": [
    "# Your code here\n",
    "len(cursor.execute('''select employeeNumber, productname from employees as EP join customers as CU\n",
    "on EP.employeeNumber=CU.salesRepEmployeeNumber\n",
    "join orders as OD using(customerNumber)\n",
    "join orderdetails as ODD using(orderNumber)\n",
    "join products as PD using(productcode)\n",
    "where employeenumber==\"1165\"''').fetchall())"
   ]
  },
  {
   "cell_type": "markdown",
   "metadata": {},
   "source": [
    "## Level Up: Display the Number of Products each employee has sold"
   ]
  },
  {
   "cell_type": "code",
   "execution_count": 36,
   "metadata": {},
   "outputs": [
    {
     "data": {
      "text/plain": [
       "[(331, '1165'),\n",
       " (114, '1166'),\n",
       " (124, '1188'),\n",
       " (152, '1216'),\n",
       " (142, '1286'),\n",
       " (211, '1323'),\n",
       " (177, '1337'),\n",
       " (396, '1370'),\n",
       " (272, '1401'),\n",
       " (236, '1501'),\n",
       " (220, '1504'),\n",
       " (185, '1611'),\n",
       " (185, '1612'),\n",
       " (137, '1621'),\n",
       " (114, '1702')]"
      ]
     },
     "execution_count": 36,
     "metadata": {},
     "output_type": "execute_result"
    }
   ],
   "source": [
    "# Your code here\n",
    "cursor.execute('''select count(productname) as count, employeeNumber from employees as EP join customers as CU\n",
    "on EP.employeeNumber=CU.salesRepEmployeeNumber\n",
    "join orders as OD using(customerNumber)\n",
    "join orderdetails as ODD using(orderNumber)\n",
    "join products as PD using(productcode)\n",
    "group by employeeNumber''').fetchall()"
   ]
  },
  {
   "cell_type": "markdown",
   "metadata": {},
   "source": [
    "## Summary"
   ]
  },
  {
   "cell_type": "markdown",
   "metadata": {},
   "source": [
    "Congrats! You now know how to use join statements, along with leveraging your foreign keys knowledge!"
   ]
  }
 ],
 "metadata": {
  "kernelspec": {
   "display_name": "Python 3",
   "language": "python",
   "name": "python3"
  },
  "language_info": {
   "codemirror_mode": {
    "name": "ipython",
    "version": 3
   },
   "file_extension": ".py",
   "mimetype": "text/x-python",
   "name": "python",
   "nbconvert_exporter": "python",
   "pygments_lexer": "ipython3",
   "version": "3.6.6"
  }
 },
 "nbformat": 4,
 "nbformat_minor": 2
}
